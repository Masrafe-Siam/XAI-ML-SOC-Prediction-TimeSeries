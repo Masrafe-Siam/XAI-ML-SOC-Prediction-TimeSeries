{
 "cells": [
  {
   "cell_type": "code",
   "execution_count": 7,
   "id": "afbd42ba",
   "metadata": {},
   "outputs": [],
   "source": [
    "import pandas as pd\n",
    "import numpy as np\n",
    "import matplotlib.pyplot as plt\n",
    "import seaborn as sns\n",
    "import os\n",
    "from sklearn.model_selection import train_test_split\n",
    "from sklearn.metrics import mean_squared_error, mean_absolute_error, r2_score\n",
    "from sklearn.preprocessing import MinMaxScaler\n",
    "#!pip install tensorflow==2.12.0\n",
    "from tensorflow.keras.models import Sequential\n",
    "from tensorflow.keras.layers import LSTM, Dense, Dropout"
   ]
  },
  {
   "cell_type": "code",
   "execution_count": 2,
   "id": "89d4038e",
   "metadata": {},
   "outputs": [],
   "source": [
    "Data_Path = 'D:\\\\Masrafe\\\\Coding\\\\Git_Hub_code\\\\ml_project\\\\SOC_Prediction\\\\Dataset\\\\Lithium-Ion Battery Drive Cycle Dataset\\\\2_preprocessed'"
   ]
  },
  {
   "cell_type": "code",
   "execution_count": 3,
   "id": "a98e2493",
   "metadata": {},
   "outputs": [],
   "source": [
    "# Collect data from all CSVs\n",
    "all_data = []\n",
    "for folder in os.listdir(Data_Path):\n",
    "    folder_path = os.path.join(Data_Path, folder)\n",
    "    if os.path.isdir(folder_path):\n",
    "        for file in os.listdir(folder_path):\n",
    "            if file.endswith('.csv'):\n",
    "                df = pd.read_csv(os.path.join(folder_path, file))\n",
    "                all_data.append(df)\n",
    "\n",
    "df_all = pd.concat(all_data, ignore_index=True)\n"
   ]
  },
  {
   "cell_type": "code",
   "execution_count": 4,
   "id": "c70b40c2",
   "metadata": {},
   "outputs": [],
   "source": [
    "# Use a subset for simplicity (you can expand to all data)\n",
    "sequence_df = df_all[['Voltage', 'Current', 'Temperature', 'SOC']].copy()\n",
    "\n",
    "# Normalize\n",
    "scaler = MinMaxScaler()\n",
    "sequence_df[:] = scaler.fit_transform(sequence_df)\n",
    "\n",
    "# Create sequences (window of past 20 timesteps to predict next SOC)\n",
    "def create_sequences(data, sequence_length=20):\n",
    "    X, y = [], []\n",
    "    for i in range(len(data) - sequence_length):\n",
    "        X.append(data[i:i + sequence_length, :-1])  # features\n",
    "        y.append(data[i + sequence_length, -1])     # SOC\n",
    "    return np.array(X), np.array(y)\n",
    "\n",
    "data_np = sequence_df.to_numpy()\n",
    "X_lstm, y_lstm = create_sequences(data_np, sequence_length=20)\n",
    "\n",
    "X_train_lstm, X_test_lstm, y_train_lstm, y_test_lstm = train_test_split(X_lstm, y_lstm, test_size=0.2, random_state=42)\n"
   ]
  },
  {
   "cell_type": "code",
   "execution_count": 5,
   "id": "ce89915e",
   "metadata": {},
   "outputs": [
    {
     "name": "stdout",
     "output_type": "stream",
     "text": [
      "Epoch 1/10\n",
      "90473/90473 [==============================] - 1219s 13ms/step - loss: 8.6411e-04 - val_loss: 3.0931e-04\n",
      "Epoch 2/10\n",
      "90473/90473 [==============================] - 1351s 15ms/step - loss: 6.2433e-04 - val_loss: 2.7881e-04\n",
      "Epoch 3/10\n",
      "90473/90473 [==============================] - 1258s 14ms/step - loss: 6.0282e-04 - val_loss: 2.8222e-04\n",
      "Epoch 4/10\n",
      "90473/90473 [==============================] - 1156s 13ms/step - loss: 5.9156e-04 - val_loss: 2.6707e-04\n",
      "Epoch 5/10\n",
      "90473/90473 [==============================] - 1266s 14ms/step - loss: 5.8379e-04 - val_loss: 2.6804e-04\n",
      "Epoch 6/10\n",
      "90473/90473 [==============================] - 1263s 14ms/step - loss: 5.7805e-04 - val_loss: 2.6556e-04\n",
      "Epoch 7/10\n",
      "90473/90473 [==============================] - 1395s 15ms/step - loss: 5.7345e-04 - val_loss: 2.5711e-04\n",
      "Epoch 8/10\n",
      "90473/90473 [==============================] - 1222s 14ms/step - loss: 5.6934e-04 - val_loss: 2.6596e-04\n",
      "Epoch 9/10\n",
      "90473/90473 [==============================] - 1228s 14ms/step - loss: 5.6588e-04 - val_loss: 2.6022e-04\n",
      "Epoch 10/10\n",
      "90473/90473 [==============================] - 1178s 13ms/step - loss: 5.6230e-04 - val_loss: 2.5450e-04\n",
      "56546/56546 [==============================] - 210s 4ms/step\n",
      "LSTM RMSE: 0.01617499361125265\n",
      "LSTM R²: 0.9964573685445215\n"
     ]
    }
   ],
   "source": [
    "model = Sequential()\n",
    "model.add(LSTM(64, input_shape=(X_train_lstm.shape[1], X_train_lstm.shape[2]), return_sequences=False))\n",
    "model.add(Dropout(0.2))\n",
    "model.add(Dense(1))\n",
    "model.compile(optimizer='adam', loss='mse')\n",
    "\n",
    "# Train\n",
    "model.fit(X_train_lstm, y_train_lstm, validation_split=0.2, epochs=10, batch_size=64)\n",
    "\n",
    "# Predict and Evaluate\n",
    "y_pred_lstm = model.predict(X_test_lstm).flatten()\n",
    "print(\"LSTM RMSE:\", np.sqrt(mean_squared_error(y_test_lstm, y_pred_lstm)))\n",
    "print(\"LSTM R²:\", r2_score(y_test_lstm, y_pred_lstm))\n"
   ]
  },
  {
   "cell_type": "code",
   "execution_count": 9,
   "id": "cfce37b8",
   "metadata": {},
   "outputs": [],
   "source": [
    "rmse = np.sqrt(mean_squared_error(y_test_lstm, y_pred_lstm))\n",
    "mae = mean_absolute_error(y_test_lstm, y_pred_lstm)\n",
    "r2 = r2_score(y_test_lstm, y_pred_lstm)"
   ]
  },
  {
   "cell_type": "code",
   "execution_count": 12,
   "id": "a2da9a8e",
   "metadata": {},
   "outputs": [
    {
     "name": "stdout",
     "output_type": "stream",
     "text": [
      "Test: Epoch 10\n",
      "Test R²: 0.996\n",
      "Test RMSE: 0.016\n",
      "Test MAE: 0.011\n"
     ]
    }
   ],
   "source": [
    "epochs = 10\n",
    "print(f\"Test: Epoch {epochs}\")\n",
    "print(f\"Test R²: {r2:.3f}\")\n",
    "print(f\"Test RMSE: {rmse:.3f}\")\n",
    "print(f\"Test MAE: {mae:.3f}\")"
   ]
  },
  {
   "cell_type": "code",
   "execution_count": 13,
   "id": "43c2f2ce",
   "metadata": {},
   "outputs": [
    {
     "name": "stdout",
     "output_type": "stream",
     "text": [
      "Test: Epoch 10\n",
      "Test ACC: 0.897\n",
      "Test F1: 0.898\n",
      "Test AUC: 0.942\n"
     ]
    }
   ],
   "source": [
    "from sklearn.metrics import accuracy_score, f1_score, roc_auc_score\n",
    "from sklearn.preprocessing import KBinsDiscretizer\n",
    "from tensorflow.keras.utils import to_categorical\n",
    "\n",
    "# Step 1: Define number of bins for classification\n",
    "n_bins = 10  # You can choose 5, 10, etc.\n",
    "\n",
    "# Step 2: Bin SOC into discrete classes using KBinsDiscretizer\n",
    "discretizer = KBinsDiscretizer(n_bins=n_bins, encode='ordinal', strategy='uniform')\n",
    "y_test_cls = discretizer.fit_transform(y_test_lstm.reshape(-1, 1)).astype(int).flatten()\n",
    "y_pred_cls = discretizer.transform(y_pred_lstm.reshape(-1, 1)).astype(int).flatten()\n",
    "\n",
    "# Step 3: Compute classification metrics\n",
    "accuracy = accuracy_score(y_test_cls, y_pred_cls)\n",
    "f1 = f1_score(y_test_cls, y_pred_cls, average='macro')  # macro = class-agnostic average\n",
    "y_test_onehot = to_categorical(y_test_cls, num_classes=n_bins)\n",
    "y_pred_onehot = to_categorical(y_pred_cls, num_classes=n_bins)\n",
    "\n",
    "# Step 4: Calculate AUC using one-vs-rest\n",
    "try:\n",
    "    auc = roc_auc_score(y_test_onehot, y_pred_onehot, multi_class='ovr')\n",
    "except ValueError:\n",
    "    auc = None  # In case some bins are missing\n",
    "\n",
    "# Step 5: Print results in your format\n",
    "epochs = 10  # change to your actual training epoch count\n",
    "print(f\"Test: Epoch {epochs}\")\n",
    "print(f\"Test ACC: {accuracy:.3f}\")\n",
    "print(f\"Test F1: {f1:.3f}\")\n",
    "print(f\"Test AUC: {auc:.3f}\" if auc is not None else \"Test AUC: N/A (insufficient class coverage)\")\n"
   ]
  }
 ],
 "metadata": {
  "kernelspec": {
   "display_name": "venv",
   "language": "python",
   "name": "python3"
  },
  "language_info": {
   "codemirror_mode": {
    "name": "ipython",
    "version": 3
   },
   "file_extension": ".py",
   "mimetype": "text/x-python",
   "name": "python",
   "nbconvert_exporter": "python",
   "pygments_lexer": "ipython3",
   "version": "3.10.9"
  }
 },
 "nbformat": 4,
 "nbformat_minor": 5
}
