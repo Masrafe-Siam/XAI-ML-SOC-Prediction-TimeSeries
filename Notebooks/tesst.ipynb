{
 "cells": [
  {
   "cell_type": "code",
   "execution_count": 2,
   "id": "5a562ea1",
   "metadata": {},
   "outputs": [
    {
     "name": "stdout",
     "output_type": "stream",
     "text": [
      "WARNING:tensorflow:From e:\\Python\\Research\\NextEnergy\\XAI-ML-SOC-Prediction-TimeSeries\\venv\\lib\\site-packages\\keras\\src\\losses.py:2976: The name tf.losses.sparse_softmax_cross_entropy is deprecated. Please use tf.compat.v1.losses.sparse_softmax_cross_entropy instead.\n",
      "\n"
     ]
    }
   ],
   "source": [
    "# 1. Imports\n",
    "import numpy as np\n",
    "import pandas as pd\n",
    "import matplotlib.pyplot as plt\n",
    "from sklearn.preprocessing import MinMaxScaler\n",
    "from sklearn.metrics import mean_absolute_error, mean_squared_error, r2_score\n",
    "import tensorflow as tf\n",
    "from tensorflow.keras.models import Sequential\n",
    "from tensorflow.keras.layers import LSTM, Dense\n",
    "from sklearn.model_selection import train_test_split"
   ]
  },
  {
   "cell_type": "code",
   "execution_count": 3,
   "id": "ec6802d7",
   "metadata": {},
   "outputs": [],
   "source": [
    "# 2. Load Data\n",
    "df = pd.read_csv(r\"E:\\Python\\Research\\NextEnergy\\XAI-ML-SOC-Prediction-TimeSeries\\Dataset\\Outcome\\all_data.csv\")\n"
   ]
  },
  {
   "cell_type": "code",
   "execution_count": 5,
   "id": "2f726bfc",
   "metadata": {},
   "outputs": [
    {
     "data": {
      "text/html": [
       "<div>\n",
       "<style scoped>\n",
       "    .dataframe tbody tr th:only-of-type {\n",
       "        vertical-align: middle;\n",
       "    }\n",
       "\n",
       "    .dataframe tbody tr th {\n",
       "        vertical-align: top;\n",
       "    }\n",
       "\n",
       "    .dataframe thead th {\n",
       "        text-align: right;\n",
       "    }\n",
       "</style>\n",
       "<table border=\"1\" class=\"dataframe\">\n",
       "  <thead>\n",
       "    <tr style=\"text-align: right;\">\n",
       "      <th></th>\n",
       "      <th>Time</th>\n",
       "      <th>Voltage</th>\n",
       "      <th>Current</th>\n",
       "      <th>Temperature</th>\n",
       "      <th>SOC</th>\n",
       "    </tr>\n",
       "  </thead>\n",
       "  <tbody>\n",
       "    <tr>\n",
       "      <th>0</th>\n",
       "      <td>0.0</td>\n",
       "      <td>4.175155</td>\n",
       "      <td>-3.691549e-06</td>\n",
       "      <td>15.96381</td>\n",
       "      <td>1.0</td>\n",
       "    </tr>\n",
       "    <tr>\n",
       "      <th>1</th>\n",
       "      <td>0.1</td>\n",
       "      <td>4.175155</td>\n",
       "      <td>-9.512327e-07</td>\n",
       "      <td>15.96381</td>\n",
       "      <td>1.0</td>\n",
       "    </tr>\n",
       "    <tr>\n",
       "      <th>2</th>\n",
       "      <td>0.2</td>\n",
       "      <td>4.174967</td>\n",
       "      <td>-4.821614e-07</td>\n",
       "      <td>15.96381</td>\n",
       "      <td>1.0</td>\n",
       "    </tr>\n",
       "    <tr>\n",
       "      <th>3</th>\n",
       "      <td>0.3</td>\n",
       "      <td>4.175153</td>\n",
       "      <td>-2.413463e-07</td>\n",
       "      <td>15.96381</td>\n",
       "      <td>1.0</td>\n",
       "    </tr>\n",
       "    <tr>\n",
       "      <th>4</th>\n",
       "      <td>0.4</td>\n",
       "      <td>4.174966</td>\n",
       "      <td>-8.059866e-08</td>\n",
       "      <td>15.96381</td>\n",
       "      <td>1.0</td>\n",
       "    </tr>\n",
       "  </tbody>\n",
       "</table>\n",
       "</div>"
      ],
      "text/plain": [
       "   Time   Voltage       Current  Temperature  SOC\n",
       "0   0.0  4.175155 -3.691549e-06     15.96381  1.0\n",
       "1   0.1  4.175155 -9.512327e-07     15.96381  1.0\n",
       "2   0.2  4.174967 -4.821614e-07     15.96381  1.0\n",
       "3   0.3  4.175153 -2.413463e-07     15.96381  1.0\n",
       "4   0.4  4.174966 -8.059866e-08     15.96381  1.0"
      ]
     },
     "execution_count": 5,
     "metadata": {},
     "output_type": "execute_result"
    }
   ],
   "source": [
    "df.head()"
   ]
  },
  {
   "cell_type": "code",
   "execution_count": 7,
   "id": "d3cdc657",
   "metadata": {},
   "outputs": [],
   "source": [
    "\n",
    "# 3. Feature Engineering: Add Power\n",
    "df['Power'] = df['Voltage'] * df['Current']\n",
    "\n",
    "# 4. Normalize features\n",
    "features = ['Voltage', 'Current', 'Temperature', 'Power']\n",
    "target = 'SOC'\n",
    "\n",
    "scaler_X = MinMaxScaler()\n",
    "scaler_y = MinMaxScaler()\n",
    "\n",
    "X_scaled = scaler_X.fit_transform(df[features])\n",
    "y_scaled = scaler_y.fit_transform(df[[target]])\n"
   ]
  },
  {
   "cell_type": "code",
   "execution_count": 3,
   "id": "b4abcab2",
   "metadata": {},
   "outputs": [],
   "source": [
    "# 5. Train-Test Split\n",
    "X_train, X_val, y_train, y_val = train_test_split(X_scaled, y_scaled, test_size=0.2, shuffle=False)\n"
   ]
  },
  {
   "cell_type": "code",
   "execution_count": 8,
   "metadata": {},
   "outputs": [],
   "source": [
    "\n",
    "class SequenceGenerator(tf.keras.utils.Sequence):\n",
    "    def __init__(self, X, y, window_size=100, batch_size=64):\n",
    "        self.X = X\n",
    "        self.y = y\n",
    "        self.window_size = window_size\n",
    "        self.batch_size = batch_size\n",
    "\n",
    "    def __len__(self):\n",
    "        return (len(self.X) - self.window_size) // self.batch_size\n",
    "\n",
    "    def __getitem__(self, idx):\n",
    "        Xs, ys = [], []\n",
    "        start_idx = idx * self.batch_size\n",
    "        for i in range(start_idx, start_idx + self.batch_size):\n",
    "            if i + self.window_size < len(self.X):\n",
    "                Xs.append(self.X[i:i+self.window_size])\n",
    "                ys.append(self.y[i+self.window_size])\n",
    "        return np.array(Xs), np.array(ys)"
   ]
  },
  {
   "cell_type": "code",
   "execution_count": 9,
   "id": "5a8ed376",
   "metadata": {},
   "outputs": [],
   "source": [
    "# 7. Instantiate Generators\n",
    "window_size = 100\n",
    "batch_size = 64\n",
    "train_gen = SequenceGenerator(X_train, y_train, window_size, batch_size)\n",
    "val_gen = SequenceGenerator(X_val, y_val, window_size, batch_size)"
   ]
  },
  {
   "cell_type": "code",
   "execution_count": 10,
   "id": "c8c627bf",
   "metadata": {},
   "outputs": [
    {
     "name": "stdout",
     "output_type": "stream",
     "text": [
      "WARNING:tensorflow:From e:\\Python\\Research\\NextEnergy\\XAI-ML-SOC-Prediction-TimeSeries\\venv\\lib\\site-packages\\keras\\src\\layers\\rnn\\lstm.py:148: The name tf.executing_eagerly_outside_functions is deprecated. Please use tf.compat.v1.executing_eagerly_outside_functions instead.\n",
      "\n"
     ]
    }
   ],
   "source": [
    "# 8. Build LSTM Model\n",
    "model = Sequential([\n",
    "    LSTM(64, input_shape=(window_size, len(features))),\n",
    "    Dense(32, activation='relu'),\n",
    "    Dense(1)\n",
    "])"
   ]
  },
  {
   "cell_type": "code",
   "execution_count": 11,
   "id": "1e584e03",
   "metadata": {},
   "outputs": [
    {
     "name": "stdout",
     "output_type": "stream",
     "text": [
      "WARNING:tensorflow:From e:\\Python\\Research\\NextEnergy\\XAI-ML-SOC-Prediction-TimeSeries\\venv\\lib\\site-packages\\keras\\src\\optimizers\\__init__.py:309: The name tf.train.Optimizer is deprecated. Please use tf.compat.v1.train.Optimizer instead.\n",
      "\n",
      "Model: \"sequential\"\n",
      "_________________________________________________________________\n",
      " Layer (type)                Output Shape              Param #   \n",
      "=================================================================\n",
      " lstm (LSTM)                 (None, 64)                17664     \n",
      "                                                                 \n",
      " dense (Dense)               (None, 32)                2080      \n",
      "                                                                 \n",
      " dense_1 (Dense)             (None, 1)                 33        \n",
      "                                                                 \n",
      "=================================================================\n",
      "Total params: 19777 (77.25 KB)\n",
      "Trainable params: 19777 (77.25 KB)\n",
      "Non-trainable params: 0 (0.00 Byte)\n",
      "_________________________________________________________________\n"
     ]
    }
   ],
   "source": [
    "model.compile(optimizer='adam', loss='mse', metrics=['mae'])\n",
    "model.summary()"
   ]
  },
  {
   "cell_type": "code",
   "execution_count": null,
   "id": "010dc41e",
   "metadata": {},
   "outputs": [
    {
     "name": "stdout",
     "output_type": "stream",
     "text": [
      "WARNING:tensorflow:From e:\\Python\\Research\\NextEnergy\\XAI-ML-SOC-Prediction-TimeSeries\\venv\\lib\\site-packages\\keras\\src\\utils\\tf_utils.py:492: The name tf.ragged.RaggedTensorValue is deprecated. Please use tf.compat.v1.ragged.RaggedTensorValue instead.\n",
      "\n",
      "WARNING:tensorflow:From e:\\Python\\Research\\NextEnergy\\XAI-ML-SOC-Prediction-TimeSeries\\venv\\lib\\site-packages\\keras\\src\\engine\\base_layer_utils.py:384: The name tf.executing_eagerly_outside_functions is deprecated. Please use tf.compat.v1.executing_eagerly_outside_functions instead.\n",
      "\n",
      " 77175/113089 [===================>..........] - ETA: 26:45 - loss: 8.6973e-04 - mae: 0.0212"
     ]
    }
   ],
   "source": [
    "# 9. Train Model\n",
    "history = model.fit(\n",
    "    train_gen,\n",
    "    validation_data=val_gen,\n",
    "    epochs=1,\n",
    "    verbose=1\n",
    ")\n"
   ]
  },
  {
   "cell_type": "code",
   "execution_count": null,
   "id": "e68dfbdf",
   "metadata": {},
   "outputs": [],
   "source": [
    "\n",
    "# 10. Plot Training History\n",
    "plt.figure(figsize=(12, 6))\n",
    "plt.plot(history.history['loss'], label='Train Loss (MSE)')\n",
    "plt.plot(history.history['val_loss'], label='Validation Loss (MSE)')\n",
    "plt.plot(history.history['mae'], label='Train MAE')\n",
    "plt.plot(history.history['val_mae'], label='Validation MAE')\n",
    "plt.xlabel(\"Epochs\")\n",
    "plt.ylabel(\"Loss / MAE\")\n",
    "plt.title(\"LSTM Training Metrics\")\n",
    "plt.legend()\n",
    "plt.grid()\n",
    "plt.show()"
   ]
  },
  {
   "cell_type": "code",
   "execution_count": null,
   "id": "b33cf00a",
   "metadata": {},
   "outputs": [],
   "source": [
    "# 11. Evaluate on Validation Set\n",
    "X_val_batch, y_val_batch = val_gen[0]\n",
    "y_pred_scaled = model.predict(X_val_batch)\n",
    "y_pred = scaler_y.inverse_transform(y_pred_scaled)\n",
    "y_true = scaler_y.inverse_transform(y_val_batch)\n",
    "\n",
    "mae = mean_absolute_error(y_true, y_pred)\n",
    "rmse = np.sqrt(mean_squared_error(y_true, y_pred))\n",
    "r2 = r2_score(y_true, y_pred)\n",
    "\n",
    "print(f\"\\n📊 Evaluation Metrics:\\nMAE:  {mae:.5f}\\nRMSE: {rmse:.5f}\\nR²:   {r2:.5f}\")\n"
   ]
  },
  {
   "cell_type": "code",
   "execution_count": null,
   "id": "1a20d367",
   "metadata": {},
   "outputs": [],
   "source": [
    "# 12. Plot Prediction vs. Ground Truth\n",
    "plt.figure(figsize=(12, 5))\n",
    "plt.plot(y_true[:500], label='True SOC', linewidth=2)\n",
    "plt.plot(y_pred[:500], label='Predicted SOC', linewidth=2)\n",
    "plt.title('Predicted vs. True SOC (First 500 Samples)')\n",
    "plt.xlabel(\"Time Step\")\n",
    "plt.ylabel(\"SOC\")\n",
    "plt.legend()\n",
    "plt.grid()\n",
    "plt.show()\n"
   ]
  },
  {
   "cell_type": "code",
   "execution_count": null,
   "id": "2b091417",
   "metadata": {},
   "outputs": [],
   "source": [
    "# 13. Save Model\n",
    "model.save(\"lstm_soc_model.h5\")\n",
    "print(\"\\n✅ Model saved as 'lstm_soc_model.h5'\")"
   ]
  },
  {
   "cell_type": "code",
   "execution_count": null,
   "id": "0d33136a",
   "metadata": {},
   "outputs": [],
   "source": []
  },
  {
   "cell_type": "code",
   "execution_count": null,
   "id": "36ef73ee",
   "metadata": {},
   "outputs": [],
   "source": []
  },
  {
   "cell_type": "code",
   "execution_count": null,
   "id": "eff4927f",
   "metadata": {},
   "outputs": [],
   "source": []
  }
 ],
 "metadata": {
  "kernelspec": {
   "display_name": "venv",
   "language": "python",
   "name": "python3"
  },
  "language_info": {
   "codemirror_mode": {
    "name": "ipython",
    "version": 3
   },
   "file_extension": ".py",
   "mimetype": "text/x-python",
   "name": "python",
   "nbconvert_exporter": "python",
   "pygments_lexer": "ipython3",
   "version": "3.10.9"
  }
 },
 "nbformat": 4,
 "nbformat_minor": 5
}
