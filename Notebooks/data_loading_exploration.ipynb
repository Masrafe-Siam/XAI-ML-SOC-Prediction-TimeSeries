{
 "cells": [
  {
   "cell_type": "code",
   "execution_count": 73,
   "id": "e293b3d1",
   "metadata": {},
   "outputs": [],
   "source": [
    "import os\n",
    "import pandas as pd\n",
    "import matplotlib.pyplot as plt\n",
    "import seaborn as sns"
   ]
  },
  {
   "cell_type": "code",
   "execution_count": 74,
   "id": "6d4e33cc",
   "metadata": {},
   "outputs": [],
   "source": [
    "sns.set(style=\"whitegrid\")\n",
    "plt.rcParams[\"figure.figsize\"] = (12, 5)"
   ]
  },
  {
   "cell_type": "code",
   "execution_count": 75,
   "id": "67113452",
   "metadata": {},
   "outputs": [],
   "source": [
    "DATA_PATH = r\"E:\\Python\\Machile Learning\\3_Machile Learning\\Research\\NextEnergy\\XAI-ML-SOC-Prediction-TimeSeries\\Dataset\\Lithium-Ion Battery Drive Cycle Dataset\\2_preprocessed\""
   ]
  },
  {
   "cell_type": "code",
   "execution_count": 76,
   "id": "d88697b8",
   "metadata": {},
   "outputs": [],
   "source": [
    "def load_drive_cycle_data(base_path=DATA_PATH):\n",
    "    \"\"\"\n",
    "    Load drive cycle CSVs into a nested dictionary: {temperature: {drive_cycle_name: DataFrame}}\n",
    "    \"\"\"\n",
    "    data_dict = {}\n",
    "    for folder in sorted(os.listdir(base_path)):\n",
    "        if \"JY_SOC_\" not in folder:\n",
    "            continue\n",
    "        try:\n",
    "            temp = int(folder.replace(\"JY_SOC_\", \"\").replace(\"deg\", \"\"))\n",
    "        except ValueError:\n",
    "            continue\n",
    "        folder_path = os.path.join(base_path, folder)\n",
    "        data_dict[temp] = {}\n",
    "        for file in sorted(os.listdir(folder_path)):\n",
    "            if file.endswith(\".csv\"):\n",
    "                drive_name = file.replace(\".csv\", \"\")\n",
    "                file_path = os.path.join(folder_path, file)\n",
    "                df = pd.read_csv(file_path)\n",
    "                data_dict[temp][drive_name] = df\n",
    "    return data_dict"
   ]
  },
  {
   "cell_type": "code",
   "execution_count": 77,
   "id": "c8dcb04c",
   "metadata": {},
   "outputs": [],
   "source": [
    "drive_data = load_drive_cycle_data()"
   ]
  },
  {
   "cell_type": "code",
   "execution_count": 78,
   "id": "29b29593",
   "metadata": {},
   "outputs": [
    {
     "name": "stdout",
     "output_type": "stream",
     "text": [
      "Available temperatures: dict_keys([15, 25, 35, 45, 5])\n",
      "Example cycles at 5°C: ['10_PDTCB_15deg', '11_PDMHC_15deg', '12_OCTBC_15deg', '1_BCDC_15deg', '2_LA92_15deg', '3_HHDDT_15deg', '4_CSHVC_15deg', '5_FTP-72_15deg', '6_FTP-75_15deg', '7_HWFET_15deg', '8_IM_15deg', '9_US06_15deg']\n"
     ]
    }
   ],
   "source": [
    "print(\"Available temperatures:\", drive_data.keys())\n",
    "print(\"Example cycles at 5°C:\", list(drive_data[15].keys()))"
   ]
  },
  {
   "cell_type": "code",
   "execution_count": 79,
   "id": "99c4228c",
   "metadata": {},
   "outputs": [
    {
     "name": "stdout",
     "output_type": "stream",
     "text": [
      "Loaded: 10_PDTCB_5deg.csv\n",
      "Loaded: 11_PDMHC_5deg.csv\n",
      "Loaded: 12_OCTBC_5deg.csv\n",
      "Loaded: 1_BCDC_5deg.csv\n",
      "Loaded: 2_LA92_5deg.csv\n",
      "Loaded: 3_HHDDT_5deg.csv\n",
      "Loaded: 4_CSHVC_5deg.csv\n",
      "Loaded: 5_FTP-72_5deg.csv\n",
      "Loaded: 6_FTP-75_5deg.csv\n",
      "Loaded: 7_HWFET_5deg.csv\n",
      "Loaded: 8_IM_5deg.csv\n",
      "Loaded: 9_US06_5deg.csv\n",
      "Loaded: 10_PDTCB_15deg.csv\n",
      "Loaded: 11_PDMHC_15deg.csv\n",
      "Loaded: 12_OCTBC_15deg.csv\n",
      "Loaded: 1_BCDC_15deg.csv\n",
      "Loaded: 2_LA92_15deg.csv\n",
      "Loaded: 3_HHDDT_15deg.csv\n",
      "Loaded: 4_CSHVC_15deg.csv\n",
      "Loaded: 5_FTP-72_15deg.csv\n",
      "Loaded: 6_FTP-75_15deg.csv\n",
      "Loaded: 7_HWFET_15deg.csv\n",
      "Loaded: 8_IM_15deg.csv\n",
      "Loaded: 9_US06_15deg.csv\n",
      "Loaded: 10_PDTCB_25deg.csv\n",
      "Loaded: 11_PDMHC_25deg.csv\n",
      "Loaded: 12_OCTBC_25deg.csv\n",
      "Loaded: 1_BCDC_25deg.csv\n",
      "Loaded: 2_LA92_25deg.csv\n",
      "Loaded: 3_HHDDT_25deg.csv\n",
      "Loaded: 4_CSHVC_25deg.csv\n",
      "Loaded: 5_FTP-72_25deg.csv\n",
      "Loaded: 6_FTP-75_25deg.csv\n",
      "Loaded: 7_HWFET_25deg.csv\n",
      "Loaded: 8_IM_25deg.csv\n",
      "Loaded: 9_US06_25deg.csv\n",
      "Loaded: 10_PDTCB_35deg.csv\n",
      "Loaded: 11_PDMHC_35deg.csv\n",
      "Loaded: 12_OCTBC_35deg.csv\n",
      "Loaded: 1_BCDC_35deg.csv\n",
      "Loaded: 2_LA92_35deg.csv\n",
      "Loaded: 3_HHDDT_35deg.csv\n",
      "Loaded: 4_CSHVC_35deg.csv\n",
      "Loaded: 5_FTP-72_35deg.csv\n",
      "Loaded: 6_FTP-75_35deg.csv\n",
      "Loaded: 7_HWFET_35deg.csv\n",
      "Loaded: 8_IM_35deg.csv\n",
      "Loaded: 9_US06_35deg.csv\n",
      "Loaded: 10_PDTCB_45deg.csv\n",
      "Loaded: 11_PDMHC_45deg.csv\n",
      "Loaded: 12_OCTBC_45deg.csv\n",
      "Loaded: 1_BCDC_45deg.csv\n",
      "Loaded: 2_LA92_45deg.csv\n",
      "Loaded: 3_HHDDT_45deg.csv\n",
      "Loaded: 4_CSHVC_45deg.csv\n",
      "Loaded: 5_FTP-72_45deg.csv\n",
      "Loaded: 6_FTP-75_45deg.csv\n",
      "Loaded: 7_HWFET_45deg.csv\n",
      "Loaded: 8_IM_45deg.csv\n",
      "Loaded: 9_US06_45deg.csv\n",
      "\n",
      "✅ Total CSV files loaded: 60\n"
     ]
    }
   ],
   "source": [
    "temperatures = [5, 15, 25, 35, 45]\n",
    "\n",
    "data = {}\n",
    "load_count = 0\n",
    "\n",
    "# Loop through each temperature folder\n",
    "for temp in temperatures:\n",
    "    folder_name = f\"JY_SOC_{temp}deg\"\n",
    "    folder_path = os.path.join(DATA_PATH, folder_name)\n",
    "\n",
    "    if not os.path.exists(folder_path):\n",
    "        print(f\"Folder not found: {folder_path}\")\n",
    "        continue\n",
    "\n",
    "    for file_name in os.listdir(folder_path):\n",
    "        if file_name.endswith('.csv'):\n",
    "            file_path = os.path.join(folder_path, file_name)\n",
    "\n",
    "            try:\n",
    "                df = pd.read_csv(file_path)\n",
    "\n",
    "                # Extract cycle name from filename\n",
    "                # Format: <number>_<cycle_name>_<temp>deg.csv\n",
    "                parts = file_name.split(\"_\")\n",
    "                cycle_name = \"_\".join(parts[1:-1])  # skip index and temperature\n",
    "\n",
    "                # Store in dictionary using (temp, cycle_name) as key\n",
    "                data[(temp, cycle_name)] = df\n",
    "                load_count += 1\n",
    "\n",
    "                print(f\"Loaded: {file_name}\")\n",
    "            except Exception as e:\n",
    "                print(f\"Failed to load {file_path}: {e}\")\n",
    "\n",
    "print(f\"\\n✅ Total CSV files loaded: {load_count}\")"
   ]
  },
  {
   "cell_type": "code",
   "execution_count": 81,
   "id": "e3de56fc",
   "metadata": {},
   "outputs": [
    {
     "name": "stdout",
     "output_type": "stream",
     "text": [
      "   Time   Voltage       Current  Temperature  SOC\n",
      "0   0.0  4.179963 -1.468638e-06     25.55283  1.0\n",
      "1   0.1  4.180153 -5.573469e-07     25.55283  1.0\n",
      "2   0.2  4.180153 -2.382668e-07     25.55283  1.0\n",
      "3   0.3  4.180153 -7.958415e-08     25.55283  1.0\n",
      "4   0.4  4.180153 -3.974810e-08     25.55283  1.0\n"
     ]
    }
   ],
   "source": [
    "\"\"\"\n",
    "all data cycle\n",
    "\n",
    "['PDTCB', 'PDMHC', 'OCTBC', 'BCDC', 'LA92', 'HHDDT', 'CSHVC', 'FTP-72', 'FTP-75', 'HWFET', 'IM', 'US06']\n",
    "\n",
    "\"\"\"\n",
    "\n",
    "df = data[(25, 'FTP-72')]\n",
    "print(df.head())\n"
   ]
  },
  {
   "cell_type": "code",
   "execution_count": null,
   "id": "3c5e842b",
   "metadata": {},
   "outputs": [],
   "source": []
  },
  {
   "cell_type": "code",
   "execution_count": null,
   "id": "834f58d1",
   "metadata": {},
   "outputs": [],
   "source": []
  },
  {
   "cell_type": "code",
   "execution_count": null,
   "id": "525d0e7f",
   "metadata": {},
   "outputs": [],
   "source": []
  },
  {
   "cell_type": "code",
   "execution_count": null,
   "id": "4d848b1b",
   "metadata": {},
   "outputs": [],
   "source": []
  },
  {
   "cell_type": "code",
   "execution_count": null,
   "id": "3daa802d",
   "metadata": {},
   "outputs": [],
   "source": []
  },
  {
   "cell_type": "code",
   "execution_count": null,
   "id": "feff3e32",
   "metadata": {},
   "outputs": [],
   "source": []
  }
 ],
 "metadata": {
  "kernelspec": {
   "display_name": "venv",
   "language": "python",
   "name": "python3"
  },
  "language_info": {
   "codemirror_mode": {
    "name": "ipython",
    "version": 3
   },
   "file_extension": ".py",
   "mimetype": "text/x-python",
   "name": "python",
   "nbconvert_exporter": "python",
   "pygments_lexer": "ipython3",
   "version": "3.10.9"
  }
 },
 "nbformat": 4,
 "nbformat_minor": 5
}
