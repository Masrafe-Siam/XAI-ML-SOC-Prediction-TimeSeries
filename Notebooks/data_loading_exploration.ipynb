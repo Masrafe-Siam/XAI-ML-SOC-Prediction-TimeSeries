{
 "cells": [
  {
   "cell_type": "code",
   "execution_count": 1,
   "id": "e293b3d1",
   "metadata": {},
   "outputs": [],
   "source": [
    "import os\n",
    "import pandas as pd\n",
    "import matplotlib.pyplot as plt\n",
    "import seaborn as sns"
   ]
  },
  {
   "cell_type": "code",
   "execution_count": 2,
   "id": "6d4e33cc",
   "metadata": {},
   "outputs": [],
   "source": [
    "sns.set(style=\"whitegrid\")\n",
    "plt.rcParams[\"figure.figsize\"] = (12, 5)"
   ]
  },
  {
   "cell_type": "code",
   "execution_count": 11,
   "id": "67113452",
   "metadata": {},
   "outputs": [],
   "source": [
    "DATA_PATH = r\"E:\\Python\\Machile Learning\\3_Machile Learning\\Research\\NextEnergy\\XAI-ML-SOC-Prediction-TimeSeries\\Dataset\\Lithium-Ion Battery Drive Cycle Dataset\\2_preprocessed\""
   ]
  },
  {
   "cell_type": "code",
   "execution_count": 13,
   "id": "ac877bcc",
   "metadata": {},
   "outputs": [],
   "source": [
    "# Function to load data\n",
    "def load_all_drive_cycles(base_dir=DATA_PATH):\n",
    "    data_dict = {}\n",
    "    for folder in os.listdir(base_dir):\n",
    "        if not folder.startswith(\"JY_SOC\"):\n",
    "            continue\n",
    "        temp = int(folder.replace(\"JY_SOC_\", \"\").replace(\"deg\", \"\"))\n",
    "        temp_path = os.path.join(base_dir, folder)\n",
    "        data_dict[temp] = {}\n",
    "        for file in os.listdir(temp_path):\n",
    "            if file.endswith(\".csv\"):\n",
    "                drive_cycle = \"_\".join(file.replace(\".csv\", \"\").split(\"_\")[1:])\n",
    "                df = pd.read_csv(os.path.join(temp_path, file))\n",
    "                data_dict[temp][drive_cycle] = df\n",
    "    return data_dict\n"
   ]
  },
  {
   "cell_type": "code",
   "execution_count": 14,
   "id": "c8dcb04c",
   "metadata": {},
   "outputs": [],
   "source": [
    "drive_data = load_all_drive_cycles()"
   ]
  },
  {
   "cell_type": "code",
   "execution_count": null,
   "id": "29b29593",
   "metadata": {},
   "outputs": [],
   "source": []
  },
  {
   "cell_type": "code",
   "execution_count": null,
   "id": "83fb7d9e",
   "metadata": {},
   "outputs": [],
   "source": []
  }
 ],
 "metadata": {
  "kernelspec": {
   "display_name": "venv",
   "language": "python",
   "name": "python3"
  },
  "language_info": {
   "codemirror_mode": {
    "name": "ipython",
    "version": 3
   },
   "file_extension": ".py",
   "mimetype": "text/x-python",
   "name": "python",
   "nbconvert_exporter": "python",
   "pygments_lexer": "ipython3",
   "version": "3.10.9"
  }
 },
 "nbformat": 4,
 "nbformat_minor": 5
}
